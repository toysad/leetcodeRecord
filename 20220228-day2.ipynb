{
 "cells": [
  {
   "cell_type": "markdown",
   "id": "81545fe2",
   "metadata": {},
   "source": [
    "# Day 2"
   ]
  },
  {
   "cell_type": "markdown",
   "id": "e4b92dff",
   "metadata": {},
   "source": [
    "Theme:  \n",
    "\n",
    "Data Structure Day 2: **Array**\n",
    "\n",
    "- (1) Two Sum  (easy)    \n",
    "        -- Array, Hash table\n",
    "\n",
    "- (88) Merge Sorted Array  (easy) \n",
    "        -- Array, Greedy, DP\n",
    "\n",
    "\n",
    "Algorithm Day 2:   **Two Pointers**\n",
    "\n",
    "- (977) Squares of a Sorted Array  (easy)\n",
    "        -- Two Pointers   \n",
    "        \n",
    "- (189) Rotate Array  (Medium)\n",
    "\n",
    "------------------------"
   ]
  },
  {
   "cell_type": "markdown",
   "id": "91dedfd7",
   "metadata": {},
   "source": [
    "1. Two Sum (Easy)\n",
    "\n",
    "Given an array of integers nums and an integer target, return indices of the two numbers such that they add up to target.\n",
    "\n",
    "You may assume that each input would have exactly one solution, and you may not use the same element twice.\n",
    "\n",
    "You can return the answer in any order.\n",
    "\n",
    " \n",
    "\n",
    "Example 1:\n",
    "\n",
    "- Input: nums = [2,7,11,15], target = 9   \n",
    "- Output: [0,1]    \n",
    "- Explanation: Because nums[0] + nums[1] == 9, we return [0, 1].    \n",
    "\n",
    "\n",
    "Example 2:   \n",
    "\n",
    "- Input: nums = [3,2,4], target = 6   \n",
    "- Output: [1,2]   \n",
    "\n",
    "\n",
    "Example 3:    \n",
    "\n",
    "- Input: nums = [3,3], target = 6    \n",
    "- Output: [0,1]   \n",
    "    \n",
    "\n",
    "Constraints:\n",
    "\n",
    "- 2 <= nums.length <= 10^4   \n",
    "- -10^9 <= nums[i] <= 10^9   \n",
    "- -10^9 <= target <= 10^9   \n",
    "- Only one valid answer exists.   \n",
    " \n",
    "\n",
    "Follow-up: Can you come up with an algorithm that is less than O(n^2) time complexity?"
   ]
  },
  {
   "cell_type": "code",
   "execution_count": 7,
   "id": "5a3b9a96",
   "metadata": {},
   "outputs": [],
   "source": [
    "#s1: Brute Force\n",
    "#Time: O(n^2) Space: O(1)\n",
    "class Solution(object):\n",
    "    def twoSum(self, nums, target):\n",
    "        \"\"\"\n",
    "        :type nums: List[int]\n",
    "        :type target: int\n",
    "        :rtype: List[int]\n",
    "        \"\"\"\n",
    "        for i in range(0,len(nums)-1):                 #note: The outer loop runs from i=0 to i=n-2 \n",
    "            for j in range(i+1,len(nums)):             #     inner loop runs from j=i+1 to j=n-1.\n",
    "                if target - nums[i] == nums[j]:\n",
    "                    return [i,j]"
   ]
  },
  {
   "cell_type": "code",
   "execution_count": 11,
   "id": "e8561756",
   "metadata": {},
   "outputs": [],
   "source": [
    "#s2: Hashmap\n",
    "#Time: O(n) Space: O(n)\n",
    "class Solution(object):\n",
    "    def twoSum(self, nums, target):\n",
    "        \"\"\"\n",
    "        :type nums: List[int]\n",
    "        :type target: int\n",
    "        :rtype: List[int]\n",
    "        \"\"\"\n",
    "        dic = {}\n",
    "        for i in range(0,len(nums)):         #注意这里不能用 i in nums, 否则用 list.index(i)函数返回下标时，一个值可能会有多个下标      \n",
    "            if dic.__contains__(target - nums[i]):\n",
    "                return [i,dic[target - nums[i]]]    #注意return的顺序，这题里没有要求；如果有先后则返回[dic[target-nums[i],i]]\n",
    "            dic[nums[i]] = i                #这一步必须在查找键值之后，否则当nums[i] + nums[i] = target时会返回错误下标"
   ]
  },
  {
   "cell_type": "markdown",
   "id": "6bee0b61",
   "metadata": {},
   "source": [
    "------------------------------------"
   ]
  },
  {
   "cell_type": "markdown",
   "id": "547e1c1c",
   "metadata": {},
   "source": [
    "88. Merge Sorted Array (Easy)\n",
    "\n",
    "You are given two integer arrays nums1 and nums2, sorted in non-decreasing order, and two integers m and n, representing the number of elements in nums1 and nums2 respectively.\n",
    "\n",
    "Merge nums1 and nums2 into a single array sorted in non-decreasing order.\n",
    "\n",
    "The final sorted array should not be returned by the function, but instead be stored inside the array nums1.   \n",
    "To accommodate this, nums1 has a length of m + n, where the first m elements denote the elements that should be merged, and the last n elements are set to 0 and should be ignored. nums2 has a length of n.\n",
    "\n",
    "\n",
    "Example 1:\n",
    "\n",
    "- Input: nums1 = [1,2,3,0,0,0], m = 3, nums2 = [2,5,6], n = 3   \n",
    "- Output: [1,2,2,3,5,6]   \n",
    "- Explanation: The arrays we are merging are [1,2,3] and [2,5,6].   The result of the merge is [1,2,2,3,5,6] with the underlined elements coming from nums1.\n",
    "\n",
    "\n",
    "Example 2:  \n",
    "\n",
    "- Input: nums1 = [1], m = 1, nums2 = [], n = 0   \n",
    "- Output: [1]   \n",
    "- Explanation: The arrays we are merging are [1] and [].    The result of the merge is [1].   \n",
    "\n",
    "\n",
    "Example 3:   \n",
    "\n",
    "- Input: nums1 = [0], m = 0, nums2 = [1], n = 1   \n",
    "- Output: [1]   \n",
    "- Explanation: The arrays we are merging are [] and [1].   The result of the merge is [1].   Note that because m = 0, there are no elements in nums1. The 0 is only there to ensure the merge result can fit in nums1.\n",
    " \n",
    "\n",
    "Constraints: \n",
    "\n",
    "- nums1.length == m + n  \n",
    "- nums2.length == n  \n",
    "- 0 <= m, n <= 200  \n",
    "- 1 <= m + n <= 200  \n",
    "- -10^9 <= nums1[i], nums2[j] <= 10^9  \n",
    " \n",
    "\n",
    "Follow up: Can you come up with an algorithm that runs in O(m + n) time?"
   ]
  },
  {
   "cell_type": "code",
   "execution_count": 26,
   "id": "dc2cab75",
   "metadata": {},
   "outputs": [],
   "source": [
    "#s1: 双指针\n",
    "#这个方法虽然满足O(m+n)的时间复杂度，但很笨（写条件很容易出错），且需要借助额外的临时变量来存原始nums1，本质上不符合题目要求in-place。\n",
    "#空间复杂度O(m+n)\n",
    "class Solution(object):\n",
    "    def merge(self, nums1, m, nums2, n):\n",
    "        \"\"\"\n",
    "        :type nums1: List[int]\n",
    "        :type m: int\n",
    "        :type nums2: List[int]\n",
    "        :type n: int\n",
    "        :rtype: None Do not return anything, modify nums1 in-place instead.\n",
    "        \"\"\"\n",
    "        rs = nums1[:]        #非常重要，注意python中的复制操作。如果写成rs=nums1，那么仅仅使rs指向nums1的内存地址，[:]才是深复制\n",
    "        p1=0\n",
    "        p2=0   #同时赋值的写法 p1 = p2 = 0 或者 p1,p2 = 0,0\n",
    "        \n",
    "        if m == 0:\n",
    "            for i in range(n):\n",
    "                nums1[i] = nums2[i]\n",
    "        elif n == 0:\n",
    "            nums1 = nums1[:]\n",
    "        else:\n",
    "            for i in range(m+n):\n",
    "                if (p2 == n) or (rs[p1] <= nums2[p2] and p1 < m) :    #p1 < m 非常重要， p2 = n 在前也重要, 错例 [2,0] [1] \n",
    "                    nums1[i] = rs[p1]\n",
    "                    p1=p1+1\n",
    "                else:\n",
    "                    nums1[i] = nums2[p2]\n",
    "                    p2=p2+1\n",
    "        return"
   ]
  },
  {
   "cell_type": "code",
   "execution_count": 39,
   "id": "dafc6853",
   "metadata": {},
   "outputs": [
    {
     "name": "stdout",
     "output_type": "stream",
     "text": [
      "[1]\n"
     ]
    }
   ],
   "source": [
    "#s2: (s1改进版)逆向双指针\n"
   ]
  },
  {
   "cell_type": "code",
   "execution_count": 40,
   "id": "75b0e004",
   "metadata": {},
   "outputs": [
    {
     "data": {
      "text/plain": [
       "[1]"
      ]
     },
     "execution_count": 40,
     "metadata": {},
     "output_type": "execute_result"
    }
   ],
   "source": [
    "#s3: 暴力排序"
   ]
  },
  {
   "cell_type": "markdown",
   "id": "d9daacd3",
   "metadata": {},
   "source": [
    "977. Squares of a Sorted Array (Easy)\n",
    "\n",
    "Given an integer array nums sorted in non-decreasing order, \n",
    "return an array of the squares of each number sorted in non-decreasing order.\n",
    "\n",
    "Example 1:\n",
    "\n",
    "- Input: nums = [-4,-1,0,3,10]   \n",
    "- Output: [0,1,9,16,100]   \n",
    "- Explanation: After squaring, the array becomes [16,1,0,9,100].  \n",
    "After sorting, it becomes [0,1,9,16,100].   \n",
    "\n",
    "\n",
    "Example 2:\n",
    "\n",
    "- Input: nums = [-7,-3,2,3,11]     \n",
    "- Output: [4,9,9,49,121]   \n",
    " \n",
    "\n",
    "Constraints:  \n",
    "\n",
    "- 1 <= nums.length <= 104  \n",
    "- -104 <= nums[i] <= 104  \n",
    "- nums is sorted in non-decreasing order.  \n",
    " \n",
    "\n",
    "Follow up: Squaring each element and sorting the new array is very trivial, could you find an O(n) solution using a different approach?"
   ]
  },
  {
   "cell_type": "code",
   "execution_count": null,
   "id": "7260bb16",
   "metadata": {},
   "outputs": [],
   "source": [
    "# 双指针\n",
    "# 时间O(n) 空间O(1)\n",
    "class Solution(object):\n",
    "    def sortedSquares(self, nums):\n",
    "        \"\"\"\n",
    "        :type nums: List[int]\n",
    "        :rtype: List[int]\n",
    "        \"\"\"\n",
    "        l, r = 0, len(nums)-1\n",
    "        rs = [0] * len(nums)\n",
    "        for i in range(len(nums)-1,-1,-1):\n",
    "            if l <= r:\n",
    "                if abs(nums[l]) >= abs(nums[r]):\n",
    "                    rs[i] = nums[l]*nums[l]\n",
    "                    l = l+1\n",
    "                else:\n",
    "                    rs[i] = nums[r]*nums[r]\n",
    "                    r = r-1\n",
    "                    \n",
    "        return rs"
   ]
  },
  {
   "cell_type": "markdown",
   "id": "3359d148",
   "metadata": {},
   "source": [
    "189. Rotate Array  (Medium)\n",
    "\n",
    "Given an array, rotate the array to the right by k steps, where k is non-negative.\n",
    "\n",
    "Example 1:\n",
    "\n",
    "- Input: nums = [1,2,3,4,5,6,7], k = 3   \n",
    "- Output: [5,6,7,1,2,3,4]    \n",
    "- Explanation:     \n",
    "    --rotate 1 steps to the right: [7,1,2,3,4,5,6]    \n",
    "    --rotate 2 steps to the right: [6,7,1,2,3,4,5]    \n",
    "    --rotate 3 steps to the right: [5,6,7,1,2,3,4]     \n",
    "    \n",
    "    \n",
    "Example 2:   \n",
    "\n",
    "- Input: nums = [-1,-100,3,99], k = 2    \n",
    "- Output: [3,99,-1,-100]    \n",
    "- Explanation:    \n",
    "    --rotate 1 steps to the right: [99,-1,-100,3]     \n",
    "    --rotate 2 steps to the right: [3,99,-1,-100]     \n",
    " \n",
    "\n",
    "Constraints:   \n",
    "\n",
    "- 1 <= nums.length <= 10^5\n",
    "- -2^31 <= nums[i] <= 2^31 - 1\n",
    "- 0 <= k <= 105\n",
    " \n",
    "\n",
    "Follow up:\n",
    "\n",
    "Try to come up with as many solutions as you can. There are at least three different ways to solve this problem.\n",
    "Could you do it in-place with O(1) extra space?"
   ]
  },
  {
   "cell_type": "code",
   "execution_count": null,
   "id": "bd53d004",
   "metadata": {},
   "outputs": [],
   "source": [
    "class Solution(object):\n",
    "    def rotate(self, nums, k):\n",
    "        \"\"\"\n",
    "        :type nums: List[int]\n",
    "        :type k: int\n",
    "        :rtype: None Do not return anything, modify nums in-place instead.\n",
    "        \"\"\"\n",
    "    "
   ]
  }
 ],
 "metadata": {
  "kernelspec": {
   "display_name": "Python 3 (ipykernel)",
   "language": "python",
   "name": "python3"
  },
  "language_info": {
   "codemirror_mode": {
    "name": "ipython",
    "version": 3
   },
   "file_extension": ".py",
   "mimetype": "text/x-python",
   "name": "python",
   "nbconvert_exporter": "python",
   "pygments_lexer": "ipython3",
   "version": "3.9.7"
  }
 },
 "nbformat": 4,
 "nbformat_minor": 5
}
