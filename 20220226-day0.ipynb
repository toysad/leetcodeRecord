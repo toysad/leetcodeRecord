{
 "cells": [
  {
   "cell_type": "markdown",
   "id": "acaeb5e9",
   "metadata": {},
   "source": [
    "# Day 0 Get Started"
   ]
  },
  {
   "cell_type": "markdown",
   "id": "58ac72b2",
   "metadata": {},
   "source": [
    "Theme:  \n",
    "Algorithm Day 1: **Binary Search**\n",
    "\n",
    "- 704. Binary Search  (easy)\n",
    "\n",
    "- 278. First Bad Version   (easy)\n",
    "\n",
    "- 035. Search Insert Position   (easy)\n",
    "------------------------------------------"
   ]
  },
  {
   "cell_type": "markdown",
   "id": "ab2dee15",
   "metadata": {},
   "source": [
    "704. Binary Search  (Easy)\n",
    "\n",
    "Given an array of integers nums which is sorted in ascending order, and an integer target, write a function to search target in nums. If target exists, then return its index. Otherwise, return -1.\n",
    "\n",
    "You must write an algorithm with O(log n) runtime complexity.\n",
    "\n",
    " \n",
    "\n",
    "Example 1:\n",
    "\n",
    "Input: nums = [-1,0,3,5,9,12], target = 9\n",
    "Output: 4\n",
    "Explanation: 9 exists in nums and its index is 4\n",
    "Example 2:\n",
    "\n",
    "Input: nums = [-1,0,3,5,9,12], target = 2\n",
    "Output: -1\n",
    "Explanation: 2 does not exist in nums so return -1\n",
    " \n",
    "\n",
    "Constraints:\n",
    "\n",
    "- 1 <= nums.length <= 10^4\n",
    "- -104 < nums[i], target < 10^4\n",
    "- All the integers in nums are unique.\n",
    "- nums is sorted in ascending order."
   ]
  },
  {
   "cell_type": "code",
   "execution_count": 1,
   "id": "7617d103",
   "metadata": {},
   "outputs": [],
   "source": [
    "class Solution(object):\n",
    "    def search(self, nums, target):\n",
    "        \"\"\"\n",
    "        :type nums: List[int]\n",
    "        :type target: int\n",
    "        :rtype: int\n",
    "        \"\"\"\n",
    "        left = 0\n",
    "        right = len(nums)-1\n",
    "        \n",
    "        while(left<=right):\n",
    "            mid = (left+right)//2   \n",
    "            if target == nums[mid]:\n",
    "                return mid\n",
    "            elif target > nums[mid]:\n",
    "                left = mid+1\n",
    "            else:\n",
    "                right = mid-1\n",
    "                \n",
    "        return -1"
   ]
  },
  {
   "cell_type": "code",
   "execution_count": 2,
   "id": "bc5f63cd",
   "metadata": {},
   "outputs": [],
   "source": [
    "#不能想到用递归"
   ]
  },
  {
   "cell_type": "markdown",
   "id": "e7ec43a6",
   "metadata": {},
   "source": [
    "278. First Bad Version  （Easy）\n",
    "\n",
    "You are a product manager and currently leading a team to develop a new product. Unfortunately, the latest version of your product fails the quality check. Since each version is developed based on the previous version, all the versions after a bad version are also bad.\n",
    "\n",
    "Suppose you have n versions [1, 2, ..., n] and you want to find out the first bad one, which causes all the following ones to be bad.\n",
    "\n",
    "You are given an API bool isBadVersion(version) which returns whether version is bad. Implement a function to find the first bad version. You should minimize the number of calls to the API.\n",
    "\n",
    " \n",
    "\n",
    "Example 1:\n",
    "\n",
    "Input: n = 5, bad = 4  \n",
    "Output: 4   \n",
    "Explanation:  \n",
    "call isBadVersion(3) -> false  \n",
    "call isBadVersion(5) -> true   \n",
    "call isBadVersion(4) -> true  \n",
    "Then 4 is the first bad version.   \n",
    "\n",
    "Example 2:\n",
    "\n",
    "Input: n = 1, bad = 1\n",
    "Output: 1\n",
    "\n",
    "Constraints:\n",
    "\n",
    "- 1 <= bad <= n <= 2^31 - 1"
   ]
  },
  {
   "cell_type": "code",
   "execution_count": 3,
   "id": "5283d0d0",
   "metadata": {},
   "outputs": [],
   "source": [
    "# The isBadVersion API is already defined for you.\n",
    "# @param version, an integer\n",
    "# @return a bool\n",
    "# def isBadVersion(version):\n",
    "\n",
    "class Solution(object):\n",
    "    def firstBadVersion(self, n):\n",
    "        \"\"\"\n",
    "        :type n: int\n",
    "        :rtype: int\n",
    "        \"\"\"\n",
    "        \n",
    "        l = 1\n",
    "        r = n        \n",
    "        while(l<r):      # NOT <=\n",
    "            if isBadVersion((l+r)//2):\n",
    "                r = (l+r)//2         #NOT -1\n",
    "            else:\n",
    "                l = (l+r)//2+1      \n",
    "        return r"
   ]
  },
  {
   "cell_type": "code",
   "execution_count": 4,
   "id": "7f68656a",
   "metadata": {},
   "outputs": [],
   "source": [
    "#条件的分界点很容易出错"
   ]
  },
  {
   "cell_type": "markdown",
   "id": "7e649cf3",
   "metadata": {},
   "source": [
    "35. Search Insert Position （Easy）\n",
    "\n",
    "Given a sorted array of distinct integers and a target value, return the index if the target is found. If not, return the index where it would be if it were inserted in order.\n",
    "\n",
    "You must write an algorithm with O(log n) runtime complexity.\n",
    "\n",
    " \n",
    "Example 1:\n",
    "\n",
    "Input: nums = [1,3,5,6], target = 5\n",
    "Output: 2\n",
    "Example 2:\n",
    "\n",
    "Input: nums = [1,3,5,6], target = 2\n",
    "Output: 1\n",
    "Example 3:\n",
    "\n",
    "Input: nums = [1,3,5,6], target = 7\n",
    "Output: 4\n",
    "\n",
    "Constraints:\n",
    "\n",
    "- 1 <= nums.length <= 10^4  \n",
    "- -10^4 <= nums[i] <= 10^4  \n",
    "- nums contains distinct values sorted in ascending order.   \n",
    "- -10^4 <= target <= 10^4"
   ]
  },
  {
   "cell_type": "code",
   "execution_count": 5,
   "id": "5ee8b9c5",
   "metadata": {},
   "outputs": [],
   "source": [
    "class Solution(object):\n",
    "    def searchInsert(self, nums, target):\n",
    "        \"\"\"\n",
    "        :type nums: List[int]\n",
    "        :type target: int\n",
    "        :rtype: int\n",
    "        \"\"\"\n",
    "        l = 0\n",
    "        r = len(nums)\n",
    "        \n",
    "        while (l<r):\n",
    "            m = (l+r)//2\n",
    "            if nums[m] == target:\n",
    "                return m\n",
    "            elif nums[m]>target:\n",
    "                r = m\n",
    "            else:\n",
    "                l = m+1       #NOT l=m\n",
    "        return l"
   ]
  },
  {
   "cell_type": "code",
   "execution_count": null,
   "id": "b004a627",
   "metadata": {},
   "outputs": [],
   "source": []
  }
 ],
 "metadata": {
  "kernelspec": {
   "display_name": "Python 3 (ipykernel)",
   "language": "python",
   "name": "python3"
  },
  "language_info": {
   "codemirror_mode": {
    "name": "ipython",
    "version": 3
   },
   "file_extension": ".py",
   "mimetype": "text/x-python",
   "name": "python",
   "nbconvert_exporter": "python",
   "pygments_lexer": "ipython3",
   "version": "3.9.7"
  }
 },
 "nbformat": 4,
 "nbformat_minor": 5
}
